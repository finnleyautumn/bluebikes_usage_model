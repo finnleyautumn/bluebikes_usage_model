{
 "cells": [
  {
   "cell_type": "markdown",
   "metadata": {},
   "source": [
    "# Bluebikes data parser\n",
    "*Finnley Autumn Rogers* | 2024-08-27\n",
    "\n",
    "Function to parse csv and combine csv files in folders."
   ]
  },
  {
   "cell_type": "code",
   "execution_count": 4,
   "metadata": {},
   "outputs": [],
   "source": [
    "import pandas as pd\n",
    "from pathlib import Path\n",
    "import numpy as np\n"
   ]
  },
  {
   "cell_type": "code",
   "execution_count": 3,
   "metadata": {},
   "outputs": [],
   "source": [
    "path_stub = \"data/bb_\"\n",
    "years = ['2021', '2022', '2023', '2024']"
   ]
  },
  {
   "cell_type": "markdown",
   "metadata": {},
   "source": [
    "At some point in 2023 the column names were changed, meaning I'll need to map them correctly to ensure the concat works correctly"
   ]
  },
  {
   "cell_type": "code",
   "execution_count": 28,
   "metadata": {},
   "outputs": [],
   "source": [
    "def bb_csv_parser(year):\n",
    "    ''' \n",
    "    # bb_csv_parser\n",
    "\n",
    "    function for parsing bluebikes trip data for several years\n",
    "\n",
    "    ## Inputs\n",
    "\n",
    "    - year (str): year of the trip data to be parsed for accessing the correct folder\n",
    "\n",
    "    ## Returns\n",
    "\n",
    "    - bb_df (str): path to created combined csv\n",
    "    '''\n",
    "\n",
    "\n",
    "    map_cols = {\n",
    "        'starttime': 'started_at',\n",
    "        'stoptime': 'ended_at',\n",
    "        'start station id': 'start_station_id',\n",
    "        'end station id': 'end_station_id',\n",
    "        'start station name': 'start_station_name',\n",
    "        'end station name': 'end_station_name',\n",
    "        'start station latitude': 'start_lat',\n",
    "        'end station latitude': 'end_lat',\n",
    "        'start station longitude': 'start_lng',\n",
    "        'end station longitude': 'end_lng',\n",
    "    }\n",
    "\n",
    "    keep_cols = list(map_cols.values())\n",
    "    available_files = Path(path_stub + year).glob(\"*.csv\") # get list of all csv files\n",
    "\n",
    "    imported_dfs = []\n",
    "\n",
    "    for f in available_files:\n",
    "\n",
    "        # read in intial file\n",
    "        dat = pd.read_csv(f)\n",
    "\n",
    "        # map names \n",
    "        dat.rename(map_cols, axis='columns', inplace=True)\n",
    "\n",
    "        dat = dat.loc[:,~dat.columns.duplicated()].copy()\n",
    "\n",
    "        dat = dat[keep_cols]\n",
    "        # add file name column\n",
    "        dat['file_name'] = f.stem\n",
    "        imported_dfs.append(dat)\n",
    "    \n",
    "    filename =  \"data/bb\" + year + \"_rideData.csv\"\n",
    "\n",
    "    pd.concat(imported_dfs, ignore_index=True).to_csv(filename, index=False)\n",
    "\n",
    "    return filename"
   ]
  },
  {
   "cell_type": "code",
   "execution_count": 26,
   "metadata": {},
   "outputs": [],
   "source": [
    "# 2024 has the fewest files, test on that first\n",
    "bb_2024 = bb_csv_parser('2023')"
   ]
  },
  {
   "cell_type": "code",
   "execution_count": 29,
   "metadata": {},
   "outputs": [
    {
     "name": "stdout",
     "output_type": "stream",
     "text": [
      "data/bb2021_rideData.csv\n",
      "data/bb2022_rideData.csv\n",
      "data/bb2023_rideData.csv\n",
      "data/bb2024_rideData.csv\n"
     ]
    }
   ],
   "source": [
    "# concat for all years\n",
    "for year in years:\n",
    "    fn = bb_csv_parser(year)\n",
    "\n",
    "    print(fn)"
   ]
  }
 ],
 "metadata": {
  "kernelspec": {
   "display_name": "Python 3",
   "language": "python",
   "name": "python3"
  },
  "language_info": {
   "codemirror_mode": {
    "name": "ipython",
    "version": 3
   },
   "file_extension": ".py",
   "mimetype": "text/x-python",
   "name": "python",
   "nbconvert_exporter": "python",
   "pygments_lexer": "ipython3",
   "version": "3.9.6"
  }
 },
 "nbformat": 4,
 "nbformat_minor": 2
}
