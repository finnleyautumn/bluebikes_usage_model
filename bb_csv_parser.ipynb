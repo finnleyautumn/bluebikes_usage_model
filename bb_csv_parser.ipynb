{
 "cells": [
  {
   "cell_type": "markdown",
   "metadata": {},
   "source": [
    "# Bluebikes data parser\n",
    "*Finnley Autumn Rogers* | 2024-08-27\n",
    "\n",
    "Function to parse csv and combine csv files in folders."
   ]
  },
  {
   "cell_type": "code",
   "execution_count": 3,
   "metadata": {},
   "outputs": [],
   "source": [
    "import pandas as pd\n",
    "from pathlib import Path\n",
    "import numpy as np\n"
   ]
  },
  {
   "cell_type": "code",
   "execution_count": 5,
   "metadata": {},
   "outputs": [],
   "source": [
    "path_stub = \"data/bb_\"\n",
    "years = ['2021', '2022', '2023', '2024']"
   ]
  },
  {
   "cell_type": "code",
   "execution_count": 10,
   "metadata": {},
   "outputs": [],
   "source": [
    "def bb_csv_parser(year):\n",
    "    ''' \n",
    "    # bb_csv_parser\n",
    "\n",
    "    function for parsing bluebikes trip data for several years\n",
    "\n",
    "    ## Inputs\n",
    "\n",
    "    - year (str): year of the trip data to be parsed for accessing the correct folder\n",
    "\n",
    "    ## Returns\n",
    "\n",
    "    - bb_df (str): path to created combined csv\n",
    "    '''\n",
    "\n",
    "    available_files = Path(path_stub + year).glob(\"*.csv\") # get list of all csv files\n",
    "\n",
    "    imported_dfs = []\n",
    "\n",
    "    for f in available_files:\n",
    "        dat = pd.read_csv(f)\n",
    "        dat['file_name'] = f.stem\n",
    "        imported_dfs.append(dat)\n",
    "    \n",
    "    filename = path_stub + year + \"/bb\" + year + \"_rideData.csv\"\n",
    "\n",
    "    pd.concat(imported_dfs, ignore_index=True).to_csv(filename)\n",
    "\n",
    "    return filename"
   ]
  },
  {
   "cell_type": "code",
   "execution_count": 11,
   "metadata": {},
   "outputs": [],
   "source": [
    "# 2024 has the fewest files, test on that first\n",
    "bb_2024 = bb_csv_parser('2024')"
   ]
  },
  {
   "cell_type": "code",
   "execution_count": 13,
   "metadata": {},
   "outputs": [
    {
     "name": "stdout",
     "output_type": "stream",
     "text": [
      "data/bb_2021/bb2021_rideData.csv\n",
      "data/bb_2022/bb2022_rideData.csv\n",
      "data/bb_2023/bb2023_rideData.csv\n",
      "data/bb_2024/bb2024_rideData.csv\n"
     ]
    }
   ],
   "source": [
    "# concat for all years\n",
    "for year in years:\n",
    "    fn = bb_csv_parser(year)\n",
    "\n",
    "    print(fn)"
   ]
  }
 ],
 "metadata": {
  "kernelspec": {
   "display_name": "Python 3",
   "language": "python",
   "name": "python3"
  },
  "language_info": {
   "codemirror_mode": {
    "name": "ipython",
    "version": 3
   },
   "file_extension": ".py",
   "mimetype": "text/x-python",
   "name": "python",
   "nbconvert_exporter": "python",
   "pygments_lexer": "ipython3",
   "version": "3.9.6"
  }
 },
 "nbformat": 4,
 "nbformat_minor": 2
}
